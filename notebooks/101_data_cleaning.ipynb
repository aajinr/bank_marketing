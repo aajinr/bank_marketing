{
 "cells": [
  {
   "cell_type": "code",
   "execution_count": 9,
   "id": "792b2089",
   "metadata": {},
   "outputs": [],
   "source": [
    "#importing required libraries\n",
    "\n",
    "import pandas as pd\n",
    "import numpy as np\n",
    "import matplotlib.pyplot as plt\n",
    "import time\n",
    "import os,sys"
   ]
  },
  {
   "cell_type": "code",
   "execution_count": 13,
   "id": "3c45e104",
   "metadata": {},
   "outputs": [],
   "source": [
    "#reading the data\n",
    "data_df=pd.read_csv('bank-additional-full.csv',delimiter=\";\")\n",
    "\n",
    "#resetting the index\n",
    "data_df=data_df.reset_index(drop=True)\n",
    "\n",
    "#saving the data back after intial clean-ups\n",
    "\n",
    "data_df.to_csv('bank_marketing.csv', index=False)"
   ]
  }
 ],
 "metadata": {
  "kernelspec": {
   "display_name": "Python 3 (ipykernel)",
   "language": "python",
   "name": "python3"
  },
  "language_info": {
   "codemirror_mode": {
    "name": "ipython",
    "version": 3
   },
   "file_extension": ".py",
   "mimetype": "text/x-python",
   "name": "python",
   "nbconvert_exporter": "python",
   "pygments_lexer": "ipython3",
   "version": "3.9.12"
  }
 },
 "nbformat": 4,
 "nbformat_minor": 5
}
