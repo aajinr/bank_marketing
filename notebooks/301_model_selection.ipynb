{
 "cells": [
  {
   "cell_type": "code",
   "execution_count": 20,
   "id": "70d5536e",
   "metadata": {},
   "outputs": [],
   "source": [
    "#loading required libraries\n",
    "import pickle\n",
    "import pandas as pd\n",
    "from random import randint\n",
    "import numpy as np\n",
    "import matplotlib.pyplot as plt\n",
    "import time\n",
    "import os,sys\n",
    "import seaborn as sns\n",
    "import warnings\n",
    "warnings.filterwarnings('ignore')\n",
    "%matplotlib inline\n",
    "\n",
    "#importing preprocessing utils\n",
    "\n",
    "from sklearn.preprocessing import OneHotEncoder\n",
    "from imblearn.over_sampling import RandomOverSampler\n",
    "from sklearn.preprocessing import LabelEncoder\n",
    "from sklearn.preprocessing import StandardScaler\n",
    "\n",
    "#calling required ML models\n",
    "from catboost import CatBoostClassifier\n",
    "from sklearn.linear_model import LogisticRegression\n",
    "from xgboost import XGBClassifier\n",
    "from xgboost import plot_importance\n",
    "from sklearn.ensemble import AdaBoostClassifier\n",
    "\n",
    "#including perfomance matrics for classification\n",
    "from sklearn.metrics import confusion_matrix,accuracy_score\n",
    "from sklearn.metrics import classification_report\n",
    "from sklearn.metrics import precision_score, recall_score\n",
    "from sklearn.model_selection import train_test_split\n",
    "\n",
    "#setting display limits to maximum to view data in full scale\n",
    "\n",
    "pd.set_option('display.max_columns', 1000)\n",
    "pd.set_option('display.max_rows', 1000)"
   ]
  },
  {
   "cell_type": "code",
   "execution_count": 12,
   "id": "6010a572",
   "metadata": {},
   "outputs": [
    {
     "name": "stdout",
     "output_type": "stream",
     "text": [
      "<class 'pandas.core.frame.DataFrame'>\n",
      "RangeIndex: 41188 entries, 0 to 41187\n",
      "Data columns (total 21 columns):\n",
      " #   Column                     Non-Null Count  Dtype  \n",
      "---  ------                     --------------  -----  \n",
      " 0   age                        41188 non-null  int64  \n",
      " 1   marital                    41188 non-null  object \n",
      " 2   default                    41188 non-null  object \n",
      " 3   housing                    41188 non-null  object \n",
      " 4   loan                       41188 non-null  object \n",
      " 5   contact                    41188 non-null  object \n",
      " 6   month                      41188 non-null  object \n",
      " 7   day_of_week                41188 non-null  object \n",
      " 8   duration                   41188 non-null  int64  \n",
      " 9   campaign                   41188 non-null  int64  \n",
      " 10  pdays                      41188 non-null  int64  \n",
      " 11  previous                   41188 non-null  int64  \n",
      " 12  poutcome                   41188 non-null  object \n",
      " 13  employment variation rate  41188 non-null  float64\n",
      " 14  consumer price index       41188 non-null  float64\n",
      " 15  consumer confidence index  41188 non-null  float64\n",
      " 16  euribor                    41188 non-null  float64\n",
      " 17  number of employees        41188 non-null  float64\n",
      " 18  education_grouped          41188 non-null  object \n",
      " 19  job_grouped                41188 non-null  object \n",
      " 20  deposit                    41188 non-null  int64  \n",
      "dtypes: float64(5), int64(6), object(10)\n",
      "memory usage: 6.6+ MB\n"
     ]
    }
   ],
   "source": [
    "#reading the data\n",
    "data_df=pd.read_csv('bank_marketing_model.csv')\n",
    "data_df.info()\n"
   ]
  },
  {
   "cell_type": "markdown",
   "id": "82dadfcb",
   "metadata": {},
   "source": [
    "## catboost classifier"
   ]
  },
  {
   "cell_type": "code",
   "execution_count": 93,
   "id": "62685555",
   "metadata": {},
   "outputs": [
    {
     "name": "stdout",
     "output_type": "stream",
     "text": [
      "<class 'pandas.core.frame.DataFrame'>\n",
      "RangeIndex: 41188 entries, 0 to 41187\n",
      "Data columns (total 21 columns):\n",
      " #   Column                     Non-Null Count  Dtype   \n",
      "---  ------                     --------------  -----   \n",
      " 0   age                        41188 non-null  int32   \n",
      " 1   marital                    41188 non-null  category\n",
      " 2   default                    41188 non-null  category\n",
      " 3   housing                    41188 non-null  category\n",
      " 4   loan                       41188 non-null  category\n",
      " 5   contact                    41188 non-null  category\n",
      " 6   month                      41188 non-null  category\n",
      " 7   day_of_week                41188 non-null  category\n",
      " 8   duration                   41188 non-null  int32   \n",
      " 9   campaign                   41188 non-null  int32   \n",
      " 10  pdays                      41188 non-null  int32   \n",
      " 11  previous                   41188 non-null  int32   \n",
      " 12  poutcome                   41188 non-null  category\n",
      " 13  employment variation rate  41188 non-null  float64 \n",
      " 14  consumer price index       41188 non-null  float64 \n",
      " 15  consumer confidence index  41188 non-null  float64 \n",
      " 16  euribor                    41188 non-null  float64 \n",
      " 17  number of employees        41188 non-null  float64 \n",
      " 18  education_grouped          41188 non-null  category\n",
      " 19  job_grouped                41188 non-null  category\n",
      " 20  deposit                    41188 non-null  category\n",
      "dtypes: category(11), float64(5), int32(5)\n",
      "memory usage: 2.8 MB\n"
     ]
    }
   ],
   "source": [
    "#modelling with catboost, converting columns into category type\n",
    "\n",
    "data_df['age']=data_df['age'].astype('int')\n",
    "data_df['job_grouped'] = data_df['job_grouped'].astype('category')\n",
    "data_df['marital'] = data_df['marital'].astype('category')\n",
    "data_df['education_grouped'] = data_df['education_grouped'].astype('category')\n",
    "data_df['default'] = data_df['default'].astype('category')\n",
    "data_df['housing'] = data_df['housing'].astype('category')\n",
    "data_df['loan'] = data_df['loan'].astype('category')\n",
    "data_df['contact'] = data_df['contact'].astype('category')\n",
    "data_df['month'] = data_df['month'].astype('category')\n",
    "data_df['day_of_week'] =  data_df['day_of_week'].astype('category')\n",
    "data_df['duration'] = data_df['duration'].astype(int)\n",
    "data_df['campaign'] = data_df['campaign'].astype(int)\n",
    "data_df['pdays'] = data_df['pdays'].astype(int)\n",
    "data_df['previous'] = data_df['previous'].astype(int)\n",
    "data_df['poutcome'] = data_df['poutcome'].astype('category')\n",
    "data_df['deposit']=data_df['deposit'].astype('category')\n",
    "data_df.info()"
   ]
  },
  {
   "cell_type": "code",
   "execution_count": 94,
   "id": "809bc326",
   "metadata": {},
   "outputs": [],
   "source": [
    "#splitting the data for train test and validation\n",
    "x= data_df.drop('deposit',axis=1)\n",
    "y= data_df[['deposit']]\n",
    "\n",
    "\n",
    "x_train, x_test, y_train, y_test = train_test_split(x, y, test_size=0.2, random_state=40)\n",
    "x_train, x_val, y_train, y_val = train_test_split(x_train, y_train, test_size=0.2, random_state=40)\n",
    "x_train,x_eval,y_train,y_eval=train_test_split(x_train, y_train, test_size=0.2, random_state=40)"
   ]
  },
  {
   "cell_type": "code",
   "execution_count": 95,
   "id": "174f79ce",
   "metadata": {},
   "outputs": [],
   "source": [
    "#oversampling to compensate for data imbalance\n",
    "\n",
    "ros=RandomOverSampler()\n",
    "x_ros,y_ros=ros.fit_resample(x_train,y_train)"
   ]
  },
  {
   "cell_type": "code",
   "execution_count": 96,
   "id": "900cd28c",
   "metadata": {},
   "outputs": [
    {
     "name": "stdout",
     "output_type": "stream",
     "text": [
      "\n",
      "----------------Train RESULTS---------------------\n",
      "Accuracy of CatBoostClassifier for training: 0.9385432473444613\n",
      "\n",
      "----------------VALIDATION RESULTS---------------------\n",
      "Accuracy of CatBoostClassifier for training: 0.8846737481031867\n",
      "Precision for validation set: 0.4874551971326165\n",
      "Recall for validation set: 0.7431693989071039\n",
      "\n",
      "----------------TEST RESULTS---------------------\n",
      "Accuracy of CatBoostClassifier for test: 0.8896576839038601\n",
      "Precision for test set: 0.5286439448875997\n",
      "Recall for test set: 0.7378542510121457\n",
      "\n",
      "               precision    recall  f1-score   support\n",
      "\n",
      "           0       0.96      0.91      0.94      7250\n",
      "           1       0.53      0.74      0.62       988\n",
      "\n",
      "    accuracy                           0.89      8238\n",
      "   macro avg       0.75      0.82      0.78      8238\n",
      "weighted avg       0.91      0.89      0.90      8238\n",
      "\n"
     ]
    },
    {
     "data": {
      "image/png": "[encoded data removed]",
      "text/plain": [
       "<Figure size 864x576 with 2 Axes>"
      ]
     },
     "metadata": {
      "needs_background": "light"
     },
     "output_type": "display_data"
    }
   ],
   "source": [
    "# Initialize CatBoostClassifier\n",
    "model_cat = CatBoostClassifier(cat_features=[1,2,3,4,5,6,7,12,18,19],verbose=False) \n",
    "\n",
    "# Train the model\n",
    "model_cat.fit(x_ros, y_ros, eval_set=(x_eval, y_eval))\n",
    "\n",
    "# Make predictions on training data\n",
    "print(\"\\n----------------Train RESULTS---------------------\")\n",
    "predictions_train = model_cat.predict(x_train)\n",
    "print(\"Accuracy of CatBoostClassifier for training:\", accuracy_score(y_train, predictions_train))\n",
    "\n",
    "# Make predictions on validation data\n",
    "print(\"\\n----------------VALIDATION RESULTS---------------------\")\n",
    "predictions_val = model_cat.predict(x_val)\n",
    "print(\"Accuracy of CatBoostClassifier for training:\", accuracy_score(y_val, predictions_val))\n",
    "print(\"Precision for validation set:\", precision_score(y_val, predictions_val))\n",
    "print(\"Recall for validation set:\", recall_score(y_val, predictions_val))\n",
    "\n",
    "\n",
    "# Make predictions on test data\n",
    "predictions_test = model_cat.predict(x_test)\n",
    "print(\"\\n----------------TEST RESULTS---------------------\")\n",
    "print(\"Accuracy of CatBoostClassifier for test:\", accuracy_score(y_test, predictions_test))\n",
    "print(\"Precision for test set:\", precision_score(y_test, predictions_test))\n",
    "print(\"Recall for test set:\", recall_score(y_test, predictions_test))\n",
    "\n",
    "# Classification report\n",
    "print(\"\\n\", classification_report(y_test, predictions_test))\n",
    "\n",
    "conf_matrix = confusion_matrix(y_test, predictions_test)\n",
    "f, ax = plt.subplots(figsize=(12, 8))\n",
    "sns.heatmap(conf_matrix, annot=True, fmt=\"d\", linewidths=.5, ax=ax)\n",
    "plt.title(\"Confusion Matrix\", fontsize=20)\n",
    "plt.subplots_adjust(left=0.15, right=0.99, bottom=0.15, top=0.99)\n",
    "ax.set_yticks(np.arange(conf_matrix.shape[0]) + 0.5, minor=False)\n",
    "ax.set_xticklabels(\"\")\n",
    "ax.set_yticklabels(['Refused T. Deposits', 'Accepted T. Deposits'], fontsize=16, rotation=360)\n",
    "plt.show()\n",
    "\n",
    "\n"
   ]
  },
  {
   "cell_type": "code",
   "execution_count": 13,
   "id": "d514aee4",
   "metadata": {},
   "outputs": [],
   "source": [
    "#for the other models we will have to encode the categorical features and standardize the numerical features"
   ]
  },
  {
   "cell_type": "code",
   "execution_count": 14,
   "id": "0e45dd0d",
   "metadata": {},
   "outputs": [],
   "source": [
    "#standardisation\n",
    "\n",
    "x=data_df.drop(['job_grouped','education_grouped','month','contact','poutcome','day_of_week',\n",
    "                'marital', 'housing', 'deposit', 'loan', 'default'],axis=1)\n",
    "\n",
    "from sklearn.preprocessing import StandardScaler\n",
    "scaler = StandardScaler()\n",
    "data_std=scaler.fit_transform(x)\n",
    "data_std=pd.DataFrame(data_std,columns=x.columns[:])\n",
    "data_df.drop(columns=x.columns[:],inplace=True)\n",
    "data_df = pd.concat([data_df, data_std], axis=1)"
   ]
  },
  {
   "cell_type": "code",
   "execution_count": 15,
   "id": "cb8fef0d",
   "metadata": {},
   "outputs": [],
   "source": [
    "#label encoding\n",
    "\n",
    "categorical_bool_cols = ['marital', 'housing', 'deposit', 'loan', 'default']\n",
    "\n",
    "encoder =LabelEncoder()\n",
    "encoded_features = []\n",
    "\n",
    "for col in categorical_bool_cols:\n",
    "    encoder.fit(data_df[col])\n",
    "    encoded_feature = encoder.transform(data_df[col])\n",
    "    data_df[col] = encoded_feature"
   ]
  },
  {
   "cell_type": "code",
   "execution_count": 16,
   "id": "9a19c88e",
   "metadata": {},
   "outputs": [],
   "source": [
    "#one hot encoding\n",
    "\n",
    "categorical_cols = ['job_grouped','education_grouped','month','contact','poutcome','day_of_week']\n",
    "#fit encoder\n",
    "encoder = OneHotEncoder(sparse=False)\n",
    "#transform\n",
    "encoder.fit(data_df[categorical_cols])\n",
    "encoded_features = list(encoder.get_feature_names_out(categorical_cols))\n",
    "data_df[encoded_features] = encoder.transform(data_df[categorical_cols])\n",
    "\n",
    "# drop original features\n",
    "data_df.drop(categorical_cols,axis=1,inplace=True)"
   ]
  },
  {
   "cell_type": "code",
   "execution_count": 17,
   "id": "e070cfec",
   "metadata": {},
   "outputs": [],
   "source": [
    "#splitting the data for train test and validation\n",
    "x= data_df.drop('deposit',axis=1)\n",
    "y= data_df[['deposit']]\n",
    "\n",
    "\n",
    "x_train, x_test, y_train, y_test = train_test_split(x, y, test_size=0.2, random_state=50)\n",
    "x_train, x_val, y_train, y_val = train_test_split(x_train, y_train, test_size=0.2, random_state=50)"
   ]
  },
  {
   "cell_type": "code",
   "execution_count": 18,
   "id": "02c9c833",
   "metadata": {},
   "outputs": [],
   "source": [
    "ros=RandomOverSampler()\n",
    "\n",
    "x_ros,y_ros=ros.fit_resample(x_train,y_train)"
   ]
  },
  {
   "cell_type": "markdown",
   "id": "b4904ab4",
   "metadata": {},
   "source": [
    "## Logistic Regression "
   ]
  },
  {
   "cell_type": "code",
   "execution_count": 89,
   "id": "fa94af7b",
   "metadata": {},
   "outputs": [
    {
     "name": "stdout",
     "output_type": "stream",
     "text": [
      "accuracy of LogisticRegression for train: 0.8686042538652089 \n",
      "\n",
      "\n",
      "----------------VALIDATION RESULTS---------------------\n",
      "accuracy of LogisticRegression for validation: 0.8658573596358118\n",
      "Precision for validation set: 0.4529569892473118\n",
      "Recall for validation set: 0.9059139784946236\n",
      "\n",
      "----------------TEST RESULTS---------------------\n",
      "accuracy of LogisticRegression for test: 0.8548191308570041\n",
      "Precision for test set: 0.43580375782881003\n",
      "Recall for test set: 0.8789473684210526\n",
      "\n",
      "               precision    recall  f1-score   support\n",
      "\n",
      "           0       0.98      0.85      0.91      7288\n",
      "           1       0.44      0.88      0.58       950\n",
      "\n",
      "    accuracy                           0.85      8238\n",
      "   macro avg       0.71      0.87      0.75      8238\n",
      "weighted avg       0.92      0.85      0.87      8238\n",
      "\n"
     ]
    },
    {
     "data": {
      "image/png": "[encoded data removed]",
      "text/plain": [
       "<Figure size 864x576 with 2 Axes>"
      ]
     },
     "metadata": {
      "needs_background": "light"
     },
     "output_type": "display_data"
    }
   ],
   "source": [
    "model_lr= LogisticRegression()\n",
    "model_lr.fit(x_ros,y_ros)\n",
    "\n",
    "predictions_test=model_lr.predict(x_ros)\n",
    "print(\"accuracy of LogisticRegression for train:\",accuracy_score(y_ros,predictions_test),'\\n')\n",
    "\n",
    "\n",
    "print(\"\\n----------------VALIDATION RESULTS---------------------\")\n",
    "\n",
    "predictions_val=model_lr.predict(x_val)\n",
    "print(\"accuracy of LogisticRegression for validation:\",accuracy_score(y_val,predictions_val))\n",
    "precision = precision_score(y_val, predictions_val)\n",
    "recall = recall_score(y_val, predictions_val)\n",
    "print(\"Precision for validation set:\", precision)\n",
    "print(\"Recall for validation set:\", recall)\n",
    "\n",
    "print(\"\\n----------------TEST RESULTS---------------------\")\n",
    "\n",
    "predictions_test=model_lr.predict(x_test)\n",
    "print(\"accuracy of LogisticRegression for test:\",accuracy_score(y_test,predictions_test))\n",
    "precision = precision_score(y_test, predictions_test)\n",
    "recall = recall_score(y_test, predictions_test)\n",
    "print(\"Precision for test set:\", precision)\n",
    "print(\"Recall for test set:\", recall)\n",
    "\n",
    "print('\\n',classification_report(y_test,predictions_test))\n",
    "\n",
    "conf_matrix = confusion_matrix(y_test, predictions_test)\n",
    "f, ax = plt.subplots(figsize=(12, 8))\n",
    "sns.heatmap(conf_matrix, annot=True, fmt=\"d\", linewidths=.5, ax=ax)\n",
    "plt.title(\"Confusion Matrix\", fontsize=20)\n",
    "plt.subplots_adjust(left=0.15, right=0.99, bottom=0.15, top=0.99)\n",
    "ax.set_yticks(np.arange(conf_matrix.shape[0]) + 0.5, minor=False)\n",
    "ax.set_xticklabels(\"\")\n",
    "ax.set_yticklabels(['Refused T. Deposits', 'Accepted T. Deposits'], fontsize=16, rotation=360)\n",
    "plt.show()\n"
   ]
  },
  {
   "cell_type": "code",
   "execution_count": 87,
   "id": "d06a5c7c",
   "metadata": {},
   "outputs": [
    {
     "name": "stdout",
     "output_type": "stream",
     "text": [
      "accuracy of AdaBoostClassifier for train: 0.8752455795677799 \n",
      "\n",
      "\n",
      "----------------VALIDATION RESULTS---------------------\n",
      "accuracy of AdaBoostClassifier for validation: 0.8705614567526555\n",
      "Precision for validation set: 0.46238785369220153\n",
      "Recall for validation set: 0.9005376344086021\n",
      "\n",
      "----------------TEST RESULTS---------------------\n",
      "accuracy of AdaBoostClassifier for test: 0.860403010439427\n",
      "Precision for test set: 0.4464668094218415\n",
      "Recall for test set: 0.8778947368421053\n",
      "\n",
      "               precision    recall  f1-score   support\n",
      "\n",
      "           0       0.98      0.86      0.92      7288\n",
      "           1       0.45      0.88      0.59       950\n",
      "\n",
      "    accuracy                           0.86      8238\n",
      "   macro avg       0.71      0.87      0.75      8238\n",
      "weighted avg       0.92      0.86      0.88      8238\n",
      "\n"
     ]
    },
    {
     "data": {
      "image/png": "[encoded data removed]",
      "text/plain": [
       "<Figure size 864x576 with 2 Axes>"
      ]
     },
     "metadata": {
      "needs_background": "light"
     },
     "output_type": "display_data"
    }
   ],
   "source": [
    "model_adaboost=AdaBoostClassifier(random_state=1)\n",
    "model_adaboost.fit(x_ros,y_ros)\n",
    "\n",
    "\n",
    "predictions_train=model_adaboost.predict(x_ros)\n",
    "print(\"accuracy of AdaBoostClassifier for train:\",accuracy_score(y_ros,predictions_train),'\\n')\n",
    "\n",
    "print(\"\\n----------------VALIDATION RESULTS---------------------\")\n",
    "\n",
    "predictions_val=model_adaboost.predict(x_val)\n",
    "print(\"accuracy of AdaBoostClassifier for validation:\",accuracy_score(y_val,predictions_val))\n",
    "precision = precision_score(y_val, predictions_val)\n",
    "recall = recall_score(y_val, predictions_val)\n",
    "print(\"Precision for validation set:\", precision)\n",
    "print(\"Recall for validation set:\", recall)\n",
    "\n",
    "print(\"\\n----------------TEST RESULTS---------------------\")\n",
    "\n",
    "predictions_test=model_adaboost.predict(x_test)\n",
    "print(\"accuracy of AdaBoostClassifier for test:\",accuracy_score(y_test,predictions_test))\n",
    "precision = precision_score(y_test, predictions_test)\n",
    "recall = recall_score(y_test, predictions_test)\n",
    "print(\"Precision for test set:\", precision)\n",
    "print(\"Recall for test set:\", recall)\n",
    "\n",
    "print('\\n',classification_report(y_test,predictions_test))\n",
    "\n",
    "conf_matrix = confusion_matrix(y_test, predictions_test)\n",
    "f, ax = plt.subplots(figsize=(12, 8))\n",
    "sns.heatmap(conf_matrix, annot=True, fmt=\"d\", linewidths=.5, ax=ax)\n",
    "plt.title(\"Confusion Matrix\", fontsize=20)\n",
    "plt.subplots_adjust(left=0.15, right=0.99, bottom=0.15, top=0.99)\n",
    "ax.set_yticks(np.arange(conf_matrix.shape[0]) + 0.5, minor=False)\n",
    "ax.set_xticklabels(\"\")\n",
    "ax.set_yticklabels(['Refused T. Deposits', 'Accepted T. Deposits'], fontsize=16, rotation=360)\n",
    "plt.show()"
   ]
  },
  {
   "cell_type": "markdown",
   "id": "1014ba69",
   "metadata": {},
   "source": [
    "## XG Boost Classifier"
   ]
  },
  {
   "cell_type": "code",
   "execution_count": 23,
   "id": "a4c25c62",
   "metadata": {},
   "outputs": [
    {
     "name": "stdout",
     "output_type": "stream",
     "text": [
      "\n",
      "----------------TRAIN RESULTS---------------------\n",
      "\n",
      "accuracy of XGBClassifier for train: 0.9594686939437943\n",
      "Precision for train set: 0.9328478313349964\n",
      "Recall for train set: 0.9902195267788503\n",
      "\n",
      "----------------VALIDATION RESULTS---------------------\n",
      "\n",
      "accuracy of XGBClassifier for validation: 0.895144157814871\n",
      "Precision for validation set: 0.52191894127378\n",
      "Recall for validation set: 0.8481182795698925\n",
      "\n",
      "----------------TEST RESULTS---------------------\n",
      "\n",
      "accuracy of XGBClassifier for test: 0.8835882495751396\n",
      "Precision for test set: 0.4970414201183432\n",
      "Recall for test set: 0.7957894736842105\n",
      "\n",
      "               precision    recall  f1-score   support\n",
      "\n",
      "           0       0.97      0.90      0.93      7288\n",
      "           1       0.50      0.80      0.61       950\n",
      "\n",
      "    accuracy                           0.88      8238\n",
      "   macro avg       0.73      0.85      0.77      8238\n",
      "weighted avg       0.92      0.88      0.89      8238\n",
      "\n"
     ]
    },
    {
     "data": {
      "image/png": "[encoded data removed]",
      "text/plain": [
       "<Figure size 864x576 with 2 Axes>"
      ]
     },
     "metadata": {
      "needs_background": "light"
     },
     "output_type": "display_data"
    },
    {
     "data": {
      "image/png": "[encoded data removed]",
      "text/plain": [
       "<Figure size 864x576 with 1 Axes>"
      ]
     },
     "metadata": {
      "needs_background": "light"
     },
     "output_type": "display_data"
    }
   ],
   "source": [
    "model_xg=XGBClassifier()\n",
    "model_xg.fit(x_ros,y_ros)\n",
    "\n",
    "print(\"\\n----------------TRAIN RESULTS---------------------\\n\")\n",
    "\n",
    "predictions_train=model_xg.predict(x_ros)\n",
    "print(\"accuracy of XGBClassifier for train:\",accuracy_score(y_ros,predictions_train))\n",
    "precision = precision_score(y_ros, predictions_train)\n",
    "recall = recall_score(y_ros, predictions_train)\n",
    "print(\"Precision for train set:\", precision)\n",
    "print(\"Recall for train set:\", recall)\n",
    "\n",
    "\n",
    "print(\"\\n----------------VALIDATION RESULTS---------------------\\n\")\n",
    "\n",
    "predictions_val=model_xg.predict(x_val)\n",
    "print(\"accuracy of XGBClassifier for validation:\",accuracy_score(y_val,predictions_val))\n",
    "precision = precision_score(y_val, predictions_val)\n",
    "recall = recall_score(y_val, predictions_val)\n",
    "print(\"Precision for validation set:\", precision)\n",
    "print(\"Recall for validation set:\", recall)\n",
    "\n",
    "print(\"\\n----------------TEST RESULTS---------------------\\n\")\n",
    "\n",
    "predictions_test=model_xg.predict(x_test)\n",
    "print(\"accuracy of XGBClassifier for test:\",accuracy_score(y_test,predictions_test))\n",
    "precision = precision_score(y_test, predictions_test)\n",
    "recall = recall_score(y_test, predictions_test)\n",
    "print(\"Precision for test set:\", precision)\n",
    "print(\"Recall for test set:\", recall)\n",
    "\n",
    "print('\\n',classification_report(y_test,predictions_test))\n",
    "\n",
    "conf_matrix = confusion_matrix(y_test, predictions_test)\n",
    "f, ax = plt.subplots(figsize=(12, 8))\n",
    "sns.heatmap(conf_matrix, annot=True, fmt=\"d\", linewidths=.5, ax=ax)\n",
    "plt.title(\"Confusion Matrix\", fontsize=20)\n",
    "plt.subplots_adjust(left=0.15, right=0.99, bottom=0.15, top=0.99)\n",
    "ax.set_yticks(np.arange(conf_matrix.shape[0]) + 0.5, minor=False)\n",
    "ax.set_xticklabels(\"\")\n",
    "ax.set_yticklabels(['Refused T. Deposits', 'Accepted T. Deposits'], fontsize=16, rotation=360)\n",
    "plt.show()\n",
    "\n",
    "plt.figure(figsize=(12, 8))\n",
    "ax = plt.gca()\n",
    "\n",
    "# Plot variable importance\n",
    "plot_importance(model_xg, ax=ax, max_num_features=10, height=0.8, importance_type='weight')\n",
    "\n",
    "# Customize the appearance\n",
    "ax.set_title('Variable Importance', fontsize=20)\n",
    "ax.set_xlabel('F score', fontsize=16)\n",
    "ax.set_ylabel('Features', fontsize=16)\n",
    "ax.tick_params(axis='both', which='major', labelsize=14)\n",
    "plt.tight_layout()\n",
    "\n",
    "# Show the plot\n",
    "plt.show()\n"
   ]
  },
  {
   "cell_type": "code",
   "execution_count": null,
   "id": "6023e0d9",
   "metadata": {},
   "outputs": [],
   "source": []
  }
 ],
 "metadata": {
  "kernelspec": {
   "display_name": "Python 3 (ipykernel)",
   "language": "python",
   "name": "python3"
  },
  "language_info": {
   "codemirror_mode": {
    "name": "ipython",
    "version": 3
   },
   "file_extension": ".py",
   "mimetype": "text/x-python",
   "name": "python",
   "nbconvert_exporter": "python",
   "pygments_lexer": "ipython3",
   "version": "3.9.12"
  }
 },
 "nbformat": 4,
 "nbformat_minor": 5
}
