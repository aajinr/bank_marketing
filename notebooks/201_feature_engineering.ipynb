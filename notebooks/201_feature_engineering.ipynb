{
 "cells": [
  {
   "cell_type": "code",
   "execution_count": 29,
   "id": "ee24788d",
   "metadata": {},
   "outputs": [],
   "source": [
    "#importing required libraries\n",
    "\n",
    "import pandas as pd\n",
    "import numpy as np\n",
    "import matplotlib.pyplot as plt\n",
    "import time\n",
    "import os,sys\n",
    "import seaborn as sns\n",
    "\n",
    "#setting display limits to maximum to view data in full scale\n",
    "\n",
    "pd.set_option('display.max_columns', 1000)\n",
    "pd.set_option('display.max_rows', 1000)"
   ]
  },
  {
   "cell_type": "code",
   "execution_count": 30,
   "id": "664c79ae",
   "metadata": {},
   "outputs": [],
   "source": [
    "#reading the data\n",
    "df=pd.read_csv('bank_marketing.csv')\n"
   ]
  },
  {
   "cell_type": "code",
   "execution_count": 36,
   "id": "7984decd",
   "metadata": {},
   "outputs": [],
   "source": [
    "#we are feature engineering some of the column and the categories within them to make better sense of the data\n",
    "\n",
    "#renaming columns as shown\n",
    "df = df.rename(columns={'emp.var.rate': 'employment variation rate', \n",
    "                        'cons.price.idx': 'consumer price index', \n",
    "                        'cons.conf.idx': 'consumer confidence index',\n",
    "                        'euribor3m': 'euribor',\n",
    "                        'nr.employed': 'number of employees',\n",
    "                           'y':'deposit'})\n",
    "\n",
    "\n",
    "df.to_csv('bank_marketing.csv',index=False)"
   ]
  }
 ],
 "metadata": {
  "kernelspec": {
   "display_name": "Python 3 (ipykernel)",
   "language": "python",
   "name": "python3"
  },
  "language_info": {
   "codemirror_mode": {
    "name": "ipython",
    "version": 3
   },
   "file_extension": ".py",
   "mimetype": "text/x-python",
   "name": "python",
   "nbconvert_exporter": "python",
   "pygments_lexer": "ipython3",
   "version": "3.9.12"
  }
 },
 "nbformat": 4,
 "nbformat_minor": 5
}
