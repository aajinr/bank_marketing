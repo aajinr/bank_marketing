{
 "cells": [
  {
   "cell_type": "code",
   "execution_count": 29,
   "id": "ee24788d",
   "metadata": {},
   "outputs": [],
   "source": [
    "#importing required libraries\n",
    "\n",
    "import pandas as pd\n",
    "import numpy as np\n",
    "import matplotlib.pyplot as plt\n",
    "import time\n",
    "import os,sys\n",
    "import seaborn as sns\n",
    "\n",
    "#setting display limits to maximum to view data in full scale\n",
    "\n",
    "pd.set_option('display.max_columns', 1000)\n",
    "pd.set_option('display.max_rows', 1000)"
   ]
  },
  {
   "cell_type": "code",
   "execution_count": 30,
   "id": "664c79ae",
   "metadata": {},
   "outputs": [],
   "source": [
    "#reading the data\n",
    "df=pd.read_csv('bank_marketing.csv')\n"
   ]
  },
  {
   "cell_type": "code",
   "execution_count": 36,
   "id": "7984decd",
   "metadata": {},
   "outputs": [],
   "source": [
    "#we are feature engineering some of the column and the categories within them to make better sense of the data\n",
    "\n",
    "#renaming columns as shown\n",
    "df = df.rename(columns={'emp.var.rate': 'employment variation rate', \n",
    "                        'cons.price.idx': 'consumer price index', \n",
    "                        'cons.conf.idx': 'consumer confidence index',\n",
    "                        'euribor3m': 'euribor',\n",
    "                        'nr.employed': 'number of employees',\n",
    "                           'y':'deposit'})\n",
    "#casting the data types to category\n",
    "\n",
    "df['age']=df['age'].astype('int')\n",
    "df['job'] = df['job'].astype('category')\n",
    "df['marital'] = df['marital'].astype('category')\n",
    "df['education'] = df['education'].astype('category')\n",
    "df['default'] = df['default'].astype('category')\n",
    "df['housing'] = df['housing'].astype('category')\n",
    "df['loan'] = df['loan'].astype('category')\n",
    "df['contact'] = df['contact'].astype('category')\n",
    "df['month'] = df['month'].astype('category')\n",
    "# Ensure 'day_of_week' is numeric as specified\n",
    "df['day_of_week'] = pd.to_numeric(df['day_of_week'], errors='coerce')  # Coerce errors to NaN\n",
    "df['duration'] = df['duration'].astype(int)\n",
    "df['campaign'] = df['campaign'].astype(int)\n",
    "df['pdays'] = df['pdays'].astype(int)\n",
    "df['previous'] = df['previous'].astype(int)\n",
    "df['poutcome'] = df['poutcome'].astype('category')\n",
    "df['deposit']=df['deposit'].astype('category')\n",
    "\n",
    "df.to_csv('bank_marketing.csv')"
   ]
  },
  {
   "cell_type": "code",
   "execution_count": null,
   "id": "32d80191",
   "metadata": {},
   "outputs": [],
   "source": []
  },
  {
   "cell_type": "code",
   "execution_count": 24,
   "id": "e7922907",
   "metadata": {},
   "outputs": [],
   "source": []
  },
  {
   "cell_type": "code",
   "execution_count": null,
   "id": "9207e3b3",
   "metadata": {},
   "outputs": [],
   "source": []
  }
 ],
 "metadata": {
  "kernelspec": {
   "display_name": "Python 3 (ipykernel)",
   "language": "python",
   "name": "python3"
  },
  "language_info": {
   "codemirror_mode": {
    "name": "ipython",
    "version": 3
   },
   "file_extension": ".py",
   "mimetype": "text/x-python",
   "name": "python",
   "nbconvert_exporter": "python",
   "pygments_lexer": "ipython3",
   "version": "3.9.12"
  }
 },
 "nbformat": 4,
 "nbformat_minor": 5
}
